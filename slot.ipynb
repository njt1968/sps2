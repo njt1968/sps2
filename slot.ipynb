{
 "cells": [
  {
   "cell_type": "code",
   "execution_count": 1,
   "metadata": {},
   "outputs": [],
   "source": [
    "from random import randint, randrange, uniform\n",
    "import sqlite3\n",
    "\n",
    "connection = sqlite3.connect(\"spin.db\")\n",
    "\n",
    "bets = [randint(1,10) * 0.25 for _ in range(100)]\n",
    "pay = [uniform(0, 5) for _ in range(100)]\n",
    "machines = [randint(1, 5) for _ in range(100)]\n",
    "\n",
    "cursor = connection.cursor()\n",
    "\n",
    "insert_query = 'INSERT INTO spins(bet, pay, machine) VALUES(?, ?, ?)'\n",
    "for i in range(100):\n",
    "\tdata = [bets[i], pay[i], machines[i]]\n",
    "\tcursor.execute(insert_query, data)\n",
    "connection.commit()"
   ]
  }
 ],
 "metadata": {
  "kernelspec": {
   "display_name": "env",
   "language": "python",
   "name": "python3"
  },
  "language_info": {
   "codemirror_mode": {
    "name": "ipython",
    "version": 3
   },
   "file_extension": ".py",
   "mimetype": "text/x-python",
   "name": "python",
   "nbconvert_exporter": "python",
   "pygments_lexer": "ipython3",
   "version": "3.10.6"
  },
  "orig_nbformat": 4,
  "vscode": {
   "interpreter": {
    "hash": "7e9062ca162e45006aa467414d62e1b048576eeda9cd869cca946d7f3b778897"
   }
  }
 },
 "nbformat": 4,
 "nbformat_minor": 2
}
