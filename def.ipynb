{
 "cells": [
  {
   "cell_type": "code",
   "execution_count": 1,
   "metadata": {},
   "outputs": [],
   "source": [
    "import sqlite3\n",
    "connection = sqlite3.connect(\"sample.db\")\n",
    "cursor = connection.cursor()"
   ]
  },
  {
   "cell_type": "code",
   "execution_count": 16,
   "metadata": {},
   "outputs": [
    {
     "name": "stdout",
     "output_type": "stream",
     "text": [
      "Coffey\n",
      "Hall\n",
      "Romero\n",
      "Price\n",
      "White\n",
      "Jackson\n",
      "Bartlett\n",
      "Cox\n",
      "Thomas\n",
      "Martinez\n"
     ]
    }
   ],
   "source": [
    "query = \"SELECT surname FROM people LIMIT 10\"\n",
    "count = 0\n",
    "for result in cursor.execute(query):\n",
    "\tprint(result[0])\n",
    "\tcount += 1\n",
    "\tif count > 10:\n",
    "\t\tbreak"
   ]
  },
  {
   "cell_type": "code",
   "execution_count": 27,
   "metadata": {},
   "outputs": [
    {
     "name": "stdout",
     "output_type": "stream",
     "text": [
      "First name James. Last name Jackson.\n",
      "First name James. Last name Carpenter.\n",
      "First name James. Last name Smith.\n"
     ]
    }
   ],
   "source": [
    "query = 'SELECT name, surname FROM people WHERE name=\"James\" LIMIT 15'\n",
    "for result in cursor.execute(query):\n",
    "\tprint(f\"First name {result[0]}. Last name {result[1]}.\")"
   ]
  },
  {
   "cell_type": "code",
   "execution_count": 35,
   "metadata": {},
   "outputs": [
    {
     "name": "stdout",
     "output_type": "stream",
     "text": [
      "First: Jacob | Last: Mcclure.\n",
      "First: James | Last: Jackson.\n",
      "First: James | Last: Carpenter.\n",
      "First: James | Last: Smith.\n",
      "First: Jamie | Last: Gonzalez.\n",
      "First: Janet | Last: Turner.\n",
      "First: Janice | Last: Nguyen.\n",
      "First: Jennifer | Last: Romero.\n",
      "First: Jennifer | Last: Nguyen.\n",
      "First: Jennifer | Last: Nguyen.\n",
      "First: Jennifer | Last: Burton.\n",
      "First: Jennifer | Last: Arnold.\n",
      "First: Jesse | Last: Price.\n",
      "First: Jesse | Last: Torres.\n",
      "First: Jessica | Last: Lutz.\n",
      "First: Jocelyn | Last: Watson.\n",
      "First: Jody | Last: Holt.\n",
      "First: Johnny | Last: Zimmerman.\n",
      "First: Jordan | Last: Williams.\n",
      "First: Jorge | Last: Williams.\n"
     ]
    }
   ],
   "source": [
    "query = 'SELECT name, surname FROM people WHERE name LIKE \"J%\" ORDER BY name LIMIT 20'\n",
    "for result in cursor.execute(query):\n",
    "\tprint(f\"First: {result[0]} | Last: {result[1]}.\")"
   ]
  },
  {
   "cell_type": "code",
   "execution_count": null,
   "metadata": {},
   "outputs": [],
   "source": []
  }
 ],
 "metadata": {
  "kernelspec": {
   "display_name": "env",
   "language": "python",
   "name": "python3"
  },
  "language_info": {
   "codemirror_mode": {
    "name": "ipython",
    "version": 3
   },
   "file_extension": ".py",
   "mimetype": "text/x-python",
   "name": "python",
   "nbconvert_exporter": "python",
   "pygments_lexer": "ipython3",
   "version": "3.10.6"
  },
  "orig_nbformat": 4,
  "vscode": {
   "interpreter": {
    "hash": "7e9062ca162e45006aa467414d62e1b048576eeda9cd869cca946d7f3b778897"
   }
  }
 },
 "nbformat": 4,
 "nbformat_minor": 2
}
